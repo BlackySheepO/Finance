{
 "cells": [
  {
   "cell_type": "markdown",
   "id": "77fc444b-79b7-4736-9948-563a52df56be",
   "metadata": {},
   "source": [
    "# Construccion de Cartera"
   ]
  },
  {
   "cell_type": "markdown",
   "id": "65db2547-3f59-4a4b-ad7e-352932db7ed9",
   "metadata": {},
   "source": [
    "### Librerias "
   ]
  },
  {
   "cell_type": "code",
   "execution_count": 2,
   "id": "723bdfef-130c-4bc5-89c8-d1a069200972",
   "metadata": {},
   "outputs": [],
   "source": [
    "import numpy as np\n",
    "import matplotlib.pyplot as plt\n",
    "import pandas as pd\n"
   ]
  },
  {
   "cell_type": "markdown",
   "id": "79a2cfd6-561a-4e33-933c-5a5c21e9be49",
   "metadata": {},
   "source": [
    "### Lectura de Base de Datos"
   ]
  },
  {
   "cell_type": "code",
   "execution_count": 3,
   "id": "c671d38a-1523-478a-a56c-935720999998",
   "metadata": {},
   "outputs": [],
   "source": [
    "data_route = '../data/'"
   ]
  },
  {
   "cell_type": "code",
   "execution_count": 7,
   "id": "f7e98eed-733b-424a-a812-993afa7f9757",
   "metadata": {},
   "outputs": [],
   "source": [
    "expenses_filename = 'expenses.csv'\n",
    "incomes_filename = 'incomes.csv'"
   ]
  },
  {
   "cell_type": "code",
   "execution_count": 8,
   "id": "59c0ddfb-9b30-40fe-9868-b4807bf90b1b",
   "metadata": {
    "scrolled": true
   },
   "outputs": [],
   "source": [
    "expenses = pd.read_csv(data_route+expenses_filename)\n",
    "incomes = pd.read_csv(data_route+incomes_filename)"
   ]
  },
  {
   "cell_type": "code",
   "execution_count": 9,
   "id": "4505848e-40f9-4b97-baed-f891ae776515",
   "metadata": {},
   "outputs": [
    {
     "data": {
      "text/html": [
       "<div>\n",
       "<style scoped>\n",
       "    .dataframe tbody tr th:only-of-type {\n",
       "        vertical-align: middle;\n",
       "    }\n",
       "\n",
       "    .dataframe tbody tr th {\n",
       "        vertical-align: top;\n",
       "    }\n",
       "\n",
       "    .dataframe thead th {\n",
       "        text-align: right;\n",
       "    }\n",
       "</style>\n",
       "<table border=\"1\" class=\"dataframe\">\n",
       "  <thead>\n",
       "    <tr style=\"text-align: right;\">\n",
       "      <th></th>\n",
       "      <th>DATE</th>\n",
       "      <th>AMOUNT</th>\n",
       "      <th>CATEGORY</th>\n",
       "      <th>THIRD-PARTY</th>\n",
       "      <th>DESCRIPTION</th>\n",
       "    </tr>\n",
       "  </thead>\n",
       "  <tbody>\n",
       "    <tr>\n",
       "      <th>0</th>\n",
       "      <td>30-05-24</td>\n",
       "      <td>67</td>\n",
       "      <td>variable</td>\n",
       "      <td>sam</td>\n",
       "      <td>pasajes</td>\n",
       "    </tr>\n",
       "  </tbody>\n",
       "</table>\n",
       "</div>"
      ],
      "text/plain": [
       "       DATE  AMOUNT  CATEGORY THIRD-PARTY DESCRIPTION\n",
       "0  30-05-24      67  variable         sam     pasajes"
      ]
     },
     "execution_count": 9,
     "metadata": {},
     "output_type": "execute_result"
    }
   ],
   "source": [
    "incomes"
   ]
  },
  {
   "cell_type": "code",
   "execution_count": 281,
   "id": "4d080bd0-b396-48a0-80c3-6328cf4dc6bc",
   "metadata": {},
   "outputs": [
    {
     "data": {
      "text/plain": [
       "Index(['DATE', 'AMOUNT', 'CATEGORY', 'THIRD-PARTY', 'DESCRIPTION '], dtype='object')"
      ]
     },
     "execution_count": 281,
     "metadata": {},
     "output_type": "execute_result"
    }
   ],
   "source": [
    "expenses.columns\n"
   ]
  },
  {
   "cell_type": "code",
   "execution_count": 282,
   "id": "74844d8c-b63e-4150-92f8-9b8c716f7835",
   "metadata": {},
   "outputs": [
    {
     "data": {
      "text/plain": [
       "0    67\n",
       "Name: AMOUNT, dtype: int64"
      ]
     },
     "execution_count": 282,
     "metadata": {},
     "output_type": "execute_result"
    }
   ],
   "source": [
    "incomes ['AMOUNT']"
   ]
  },
  {
   "cell_type": "code",
   "execution_count": 283,
   "id": "e7dcf42d-521d-4c12-9cc0-0988628c6d8a",
   "metadata": {},
   "outputs": [
    {
     "data": {
      "text/plain": [
       "67"
      ]
     },
     "execution_count": 283,
     "metadata": {},
     "output_type": "execute_result"
    }
   ],
   "source": [
    "incomes ['AMOUNT'].sum()"
   ]
  },
  {
   "cell_type": "code",
   "execution_count": 284,
   "id": "be9ccf17-66f4-483e-9e32-f9c011a1c955",
   "metadata": {},
   "outputs": [
    {
     "data": {
      "text/plain": [
       "'pasajes'"
      ]
     },
     "execution_count": 284,
     "metadata": {},
     "output_type": "execute_result"
    }
   ],
   "source": [
    "incomes.loc[0] ['DESCRIPTION']"
   ]
  },
  {
   "cell_type": "code",
   "execution_count": 285,
   "id": "68dc3163-c31f-497e-bfa5-0a522ca8d8b4",
   "metadata": {},
   "outputs": [],
   "source": [
    "n = len(incomes)"
   ]
  },
  {
   "cell_type": "code",
   "execution_count": 286,
   "id": "c98d8ce6-e9b2-42de-bb31-458f2812ab27",
   "metadata": {},
   "outputs": [],
   "source": [
    "incomes.loc[n] = ['11-10-2024',300,'VARIABLE','zeroHero','Comida']\n"
   ]
  },
  {
   "cell_type": "code",
   "execution_count": 287,
   "id": "eb319f0a-89f2-46cd-b447-07078febead5",
   "metadata": {
    "scrolled": true
   },
   "outputs": [
    {
     "data": {
      "text/html": [
       "<div>\n",
       "<style scoped>\n",
       "    .dataframe tbody tr th:only-of-type {\n",
       "        vertical-align: middle;\n",
       "    }\n",
       "\n",
       "    .dataframe tbody tr th {\n",
       "        vertical-align: top;\n",
       "    }\n",
       "\n",
       "    .dataframe thead th {\n",
       "        text-align: right;\n",
       "    }\n",
       "</style>\n",
       "<table border=\"1\" class=\"dataframe\">\n",
       "  <thead>\n",
       "    <tr style=\"text-align: right;\">\n",
       "      <th></th>\n",
       "      <th>DATE</th>\n",
       "      <th>AMOUNT</th>\n",
       "      <th>CATEGORY</th>\n",
       "      <th>THIRD-PARTY</th>\n",
       "      <th>DESCRIPTION</th>\n",
       "    </tr>\n",
       "  </thead>\n",
       "  <tbody>\n",
       "    <tr>\n",
       "      <th>0</th>\n",
       "      <td>30-05-24</td>\n",
       "      <td>67</td>\n",
       "      <td>variable</td>\n",
       "      <td>sam</td>\n",
       "      <td>pasajes</td>\n",
       "    </tr>\n",
       "    <tr>\n",
       "      <th>1</th>\n",
       "      <td>11-10-2024</td>\n",
       "      <td>300</td>\n",
       "      <td>VARIABLE</td>\n",
       "      <td>zeroHero</td>\n",
       "      <td>Comida</td>\n",
       "    </tr>\n",
       "  </tbody>\n",
       "</table>\n",
       "</div>"
      ],
      "text/plain": [
       "         DATE  AMOUNT  CATEGORY THIRD-PARTY DESCRIPTION\n",
       "0    30-05-24      67  variable         sam     pasajes\n",
       "1  11-10-2024     300  VARIABLE    zeroHero      Comida"
      ]
     },
     "execution_count": 287,
     "metadata": {},
     "output_type": "execute_result"
    }
   ],
   "source": [
    "incomes"
   ]
  },
  {
   "cell_type": "markdown",
   "id": "00d9d3fc-03dd-4511-9f28-6f91b600872b",
   "metadata": {},
   "source": [
    "### Construccion de la Clase"
   ]
  },
  {
   "cell_type": "code",
   "execution_count": 324,
   "id": "7bc826c1-dee4-4ded-ade2-045847c68fa7",
   "metadata": {},
   "outputs": [],
   "source": [
    "class Wallet:\n",
    "    def __init__(self,inputs):\n",
    "        self.inputs = inputs\n",
    "        self.incomes = pd.read_csv(self.inputs['data_route']+self.inputs['incomes_filename'])\n",
    "        self.expenses = pd.read_csv(self.inputs['data_route']+self.inputs['expenses_filename'])\n",
    "       \n",
    "        \n",
    "        \n",
    "    ### ACTIONS \n",
    "\n",
    "    ###ADD incomes to database  \n",
    "    def add_income(self):\n",
    "        date =  input( 'date: ')\n",
    "        amount = input( ' amount: ')\n",
    "        category = input( 'category: ')\n",
    "        third_party = input( 'third party: ')\n",
    "        description = input( 'description: ')\n",
    "\n",
    "        new_income = [date,amount,category,third_party,description]\n",
    "        \n",
    "        n = len(self.incomes)\n",
    "        self.incomes.loc[n] = new_income\n",
    "        \n",
    "        self.incomes.to_csv(self.inputs['data_route']+self.inputs['incomes_filename'], index =False )\n",
    "\n",
    "    \n",
    "    ### ADD expense to database\n",
    "    def add_expense(self):\n",
    "        date =  input( 'date: ')\n",
    "        amount = input( ' amount: ')\n",
    "        category = input( 'category: ')\n",
    "        third_party = input( 'third party: ')\n",
    "        description = input( 'description: ')\n",
    "\n",
    "        new_expense = [date,amount,category,third_party,description]\n",
    "        \n",
    "        n = len(self.expenses)\n",
    "        self.expenses.loc[n] = new_expense\n",
    "        \n",
    "        self.expenses.to_csv(self.inputs['data_route']+self.inputs['expenses_filename'], index =False )\n",
    "\n",
    "    \n",
    "    ### Calculate the total income\n",
    "    def total_income(self):\n",
    "        total = self.incomes['AMOUNT'].sum()\n",
    "        return total\n",
    "        \n",
    "    ### Calculate total expense\n",
    "    def total_expenses(self):\n",
    "        total = self.expenses['AMOUNT'].sum()\n",
    "        return total\n",
    "        \n",
    "    ### Calculate balance = income - expense\n",
    "    def balance(self):\n",
    "        balance = self.total_income() - self.total_expenses()\n",
    "        return balance\n",
    "        \n",
    "    ### Create financial report using the functions above\n",
    "    def finance_report(self):\n",
    "        print ('\\n'+'Financial Report'+'\\n')\n",
    "        print (f'Total Income: ${self.total_income()}')\n",
    "        print (f'Total Expense: ${self.total_expenses()}')\n",
    "        print (f'Total Balance: ${self.balance()}')\n",
    "        \n",
    "        if self.balance() > 0:\n",
    "            print ('¡No olvides que puedes ahorrar el resto de tu dinero :D!')\n",
    "        else:\n",
    "            print ('¡Podrias ser mas responsable con tus Finanzas :c!')\n",
    "    ### Para la implemetacion de UI es: import tkinter as tk\n",
    "###from tkinter import messagebox\n",
    "\n",
    "###def submit_data():\n",
    "    # Aquí puedes procesar los datos ingresados por el usuario\n",
    "   # asset_name = entry_asset_name.get()\n",
    "   # units = entry_units.get()\n",
    "    #price = entry_price.get()\n",
    "\n",
    "    # Ejemplo de cómo mostrar los datos ingresados\n",
    "    #messagebox.showinfo(\"Datos Ingresados\", \n",
    "     #                   f\"Activo: {asset_name}\\n\"\n",
    "      #                  f\"Unidades: {units}\\n\"\n",
    "       #                 f\"Precio: {price}\")\n",
    "\n",
    "# Crear la ventana principal\n",
    "#root = tk.Tk()\n",
    "#root.title(\"Cartera Financiera\")\n",
    "\n",
    "# Etiqueta de bienvenida\n",
    "#label_welcome = tk.Label(root, text=\"Bienvenido a tu Cartera Financiera\")\n",
    "#label_welcome.pack(pady=10)\n",
    "\n",
    "# Entradas para datos\n",
    "#label_asset_name = tk.Label(root, text=\"Nombre del activo:\")\n",
    "#label_asset_name.pack()\n",
    "#entry_asset_name = tk.Entry(root)\n",
    "#entry_asset_name.pack()\n",
    "\n",
    "#label_units = tk.Label(root, text=\"Unidades:\")\n",
    "#label_units.pack()\n",
    "#entry_units = tk.Entry(root)\n",
    "#entry_units.pack()\n",
    "\n",
    "#label_price = tk.Label(root, text=\"Precio por unidad:\")\n",
    "#label_price.pack()\n",
    "#entry_price = tk.Entry(root)\n",
    "#entry_price.pack()\n",
    "\n",
    "# Botón para enviar datos\n",
    "#button_submit = tk.Button(root, text=\"Enviar\", command=submit_data)\n",
    "#button_submit.pack(pady=20)\n",
    "\n",
    "# Ejecutar la aplicación\n",
    "#root.mainloop()\n",
    "\n",
    "       "
   ]
  },
  {
   "cell_type": "code",
   "execution_count": 325,
   "id": "9f93c94b-6b33-4c58-aa12-d2ca6b8a5993",
   "metadata": {},
   "outputs": [],
   "source": [
    "inputs = {\n",
    "    'data_route' : '../data/',\n",
    "    'expenses_filename' : 'expenses.csv',\n",
    "    'incomes_filename' : 'incomes.csv'\n",
    "}"
   ]
  },
  {
   "cell_type": "code",
   "execution_count": 326,
   "id": "00aacd74-95be-4b71-9ddc-270c1610c111",
   "metadata": {},
   "outputs": [],
   "source": [
    "cartera = Wallet(inputs)"
   ]
  },
  {
   "cell_type": "code",
   "execution_count": 327,
   "id": "2b94fb80-8e6f-4c18-8581-0bd079c261e9",
   "metadata": {},
   "outputs": [
    {
     "name": "stdout",
     "output_type": "stream",
     "text": [
      "\n",
      "Financial Report\n",
      "\n",
      "Total Income: $67\n",
      "Total Expense: $99\n",
      "Total Balance: $-32\n",
      "¡Podrias ser mas responsable con tus Finanzas :c!\n"
     ]
    }
   ],
   "source": [
    "cartera.finance_report()"
   ]
  },
  {
   "cell_type": "code",
   "execution_count": 292,
   "id": "57e96d50-daba-4d88-8198-339122cb7b88",
   "metadata": {},
   "outputs": [
    {
     "data": {
      "text/html": [
       "<div>\n",
       "<style scoped>\n",
       "    .dataframe tbody tr th:only-of-type {\n",
       "        vertical-align: middle;\n",
       "    }\n",
       "\n",
       "    .dataframe tbody tr th {\n",
       "        vertical-align: top;\n",
       "    }\n",
       "\n",
       "    .dataframe thead th {\n",
       "        text-align: right;\n",
       "    }\n",
       "</style>\n",
       "<table border=\"1\" class=\"dataframe\">\n",
       "  <thead>\n",
       "    <tr style=\"text-align: right;\">\n",
       "      <th></th>\n",
       "      <th>DATE</th>\n",
       "      <th>AMOUNT</th>\n",
       "      <th>CATEGORY</th>\n",
       "      <th>THIRD-PARTY</th>\n",
       "      <th>DESCRIPTION</th>\n",
       "    </tr>\n",
       "  </thead>\n",
       "  <tbody>\n",
       "    <tr>\n",
       "      <th>0</th>\n",
       "      <td>30-25-23</td>\n",
       "      <td>99</td>\n",
       "      <td>variable</td>\n",
       "      <td>Tirnda</td>\n",
       "      <td>compras</td>\n",
       "    </tr>\n",
       "  </tbody>\n",
       "</table>\n",
       "</div>"
      ],
      "text/plain": [
       "       DATE  AMOUNT  CATEGORY THIRD-PARTY DESCRIPTION \n",
       "0  30-25-23      99  variable      Tirnda      compras"
      ]
     },
     "execution_count": 292,
     "metadata": {},
     "output_type": "execute_result"
    }
   ],
   "source": [
    "cartera.expenses"
   ]
  }
 ],
 "metadata": {
  "kernelspec": {
   "display_name": "Python 3 (ipykernel)",
   "language": "python",
   "name": "python3"
  },
  "language_info": {
   "codemirror_mode": {
    "name": "ipython",
    "version": 3
   },
   "file_extension": ".py",
   "mimetype": "text/x-python",
   "name": "python",
   "nbconvert_exporter": "python",
   "pygments_lexer": "ipython3",
   "version": "3.12.3"
  }
 },
 "nbformat": 4,
 "nbformat_minor": 5
}
